{
  "metadata": {
    "kernelspec": {
      "name": "python",
      "display_name": "Python (Pyodide)",
      "language": "python"
    },
    "language_info": {
      "codemirror_mode": {
        "name": "python",
        "version": 3
      },
      "file_extension": ".py",
      "mimetype": "text/x-python",
      "name": "python",
      "nbconvert_exporter": "python",
      "pygments_lexer": "ipython3",
      "version": "3.8"
    }
  },
  "nbformat_minor": 5,
  "nbformat": 4,
  "cells": [
    {
      "id": "00bb0414-7265-41dc-b553-3847ca9c020a",
      "cell_type": "markdown",
      "source": "# Trips and Users",
      "metadata": {}
    },
    {
      "id": "146d0342-e90b-40ba-b93d-1f32f29a9bb4",
      "cell_type": "markdown",
      "source": "### Description",
      "metadata": {}
    },
    {
      "id": "2385eded-dc22-4518-805f-baf9e51ec412",
      "cell_type": "markdown",
      "source": "Table: Trips\n\n| Column Name | Type     |\n|-------------|----------|\n| id          | int      |\n| client_id   | int      |\n| driver_id   | int      |\n| city_id     | int      |\n| status      | enum     |\n| request_at  | date     |     \n\nid is the primary key (column with unique values) for this table.\nThe table holds all taxi trips. Each trip has a unique id, while client_id and driver_id are foreign keys to the users_id at the Users table.\nStatus is an ENUM (category) type of ('completed', 'cancelled_by_driver', 'cancelled_by_client').\n\nTable: Users\n\n| Column Name | Type     |\n|-------------|----------|\n| users_id    | int      |\n| banned      | enum     |\n| role        | enum     |\n\nusers_id is the primary key (column with unique values) for this table.\nThe table holds all users. Each user has a unique users_id, and role is an ENUM type of ('client', 'driver', 'partner').\nbanned is an ENUM (category) type of ('Yes', 'No').\n\nThe cancellation rate is computed by dividing the number of canceled (by client or driver) requests with unbanned users by the total number of requests with unbanned users on that day.\n\nWrite a solution to find the cancellation rate of requests with unbanned users (both client and driver must not be banned) each day between \"2013-10-01\" and \"2013-10-03\". Round Cancellation Rate to two decimal points.\n\nReturn the result table in any order.",
      "metadata": {}
    },
    {
      "id": "a4be8522-d0c3-4ef4-81f1-08c147c90bb2",
      "cell_type": "markdown",
      "source": "### Imports",
      "metadata": {}
    },
    {
      "id": "10a0f31b-2829-4f52-9701-d659274a3251",
      "cell_type": "code",
      "source": "from pyspark.sql.types import StructType, StructField, IntegerType, StringType, DateType\nfrom pyspark.sql.window import Window\nfrom pyspark.sql import functions as F\nfrom datetime import datetime",
      "metadata": {
        "trusted": true
      },
      "outputs": [],
      "execution_count": null
    },
    {
      "id": "f909d293-afca-4af9-8f4d-1e4027eb466d",
      "cell_type": "markdown",
      "source": "### Sample data",
      "metadata": {}
    },
    {
      "id": "8bbb2b62-6190-4557-8a41-f29da277f447",
      "cell_type": "code",
      "source": "trips_schema = StructType([\n    StructField(\"id\", IntegerType(), nullable=False),\n    StructField(\"client_id\", IntegerType(), nullable=False),\n    StructField(\"driver_id\", IntegerType(), nullable=False),\n    StructField(\"city_id\", IntegerType(), nullable=False),\n    StructField(\"status\", StringType(), nullable=False),\n    StructField(\"request_at\", DateType(), nullable=False)\n])\n\nusers_schema = StructType([\n    StructField(\"users_id\", IntegerType(), nullable=False),\n    StructField(\"banned\", StringType(), nullable=False),\n    StructField(\"role\", StringType(), nullable=False)\n])\n\ntrips_data = [\n    (1, 1, 10, 1, \"completed\", datetime.strptime(\"2013-10-01\", \"%Y-%m-%d\")),\n    (2, 2, 11, 1, \"cancelled_by_driver\", datetime.strptime(\"2013-10-01\", \"%Y-%m-%d\")),\n    (3, 3, 12, 6, \"completed\", datetime.strptime(\"2013-10-01\", \"%Y-%m-%d\")),\n    (4, 4, 13, 6, \"cancelled_by_client\", datetime.strptime(\"2013-10-01\", \"%Y-%m-%d\")),\n    (5, 1, 10, 1, \"completed\", datetime.strptime(\"2013-10-02\", \"%Y-%m-%d\")),\n    (6, 2, 11, 6, \"completed\", datetime.strptime(\"2013-10-02\", \"%Y-%m-%d\")),\n    (7, 3, 12, 6, \"completed\", datetime.strptime(\"2013-10-02\", \"%Y-%m-%d\")),\n    (8, 2, 12, 12, \"completed\", datetime.strptime(\"2013-10-03\", \"%Y-%m-%d\")),\n    (9, 3, 10, 12, \"completed\", datetime.strptime(\"2013-10-03\", \"%Y-%m-%d\")),\n    (10, 4, 13, 12, \"cancelled_by_driver\", datetime.strptime(\"2013-10-03\", \"%Y-%m-%d\"))\n]\n\nusers_data = [\n    (1, \"No\", \"client\"),\n    (2, \"Yes\", \"client\"),\n    (3, \"No\", \"client\"),\n    (4, \"No\", \"client\"),\n    (10, \"No\", \"driver\"),\n    (11, \"No\", \"driver\"),\n    (12, \"No\", \"driver\"),\n    (13, \"No\", \"driver\")\n]\n\nspark.createDataFrame(trips_data, schema=trips_schema).createOrReplaceTempView(\"Trips\")\nspark.createDataFrame(users_data, schema=users_schema).createOrReplaceTempView(\"Users\")\n\ndisplay(spark.table(\"Trips\"))\ndisplay(spark.table(\"Users\"))\n",
      "metadata": {
        "trusted": true
      },
      "outputs": [],
      "execution_count": null
    },
    {
      "id": "e0d29e5e-9f62-4266-86c7-153beb01d667",
      "cell_type": "markdown",
      "source": "### Solution",
      "metadata": {}
    },
    {
      "id": "1f849ad4-f004-4050-aafa-13d1ccbcb0d9",
      "cell_type": "code",
      "source": "window = Window.partitionBy(\"request_at\")\n\nusers_not_banned = spark.read.table(\"Users\").filter(\"banned = 'No'\").select(\"users_id\")\nusers_not_banned_list = [row.users_id for row in users_not_banned.collect()]\nbroadcasted_users_not_banned_list = spark.sparkContext.broadcast(users_not_banned_list)\n\nusers_banned = spark.read.table(\"Users\").filter(\"banned = 'Yes'\").select(\"users_id\")\nusers_banned_list = [row.users_id for row in users_banned.collect()]\nbroadcasted_users_banned_list = spark.sparkContext.broadcast(users_banned_list)\n\ntrips_enriched = (\n    spark.read.table(\"Trips\")\n        .withColumn(\"total\", F.count(\"*\").over(window))\n        .withColumn(\"cancelled\", F.count_if(F.col(\"status\").like(\"cancelled%\") & F.col(\"client_id\").isin(broadcasted_users_not_banned_list.value)).over(window))\n        .withColumn(\"banned\", F.count_if(F.col(\"client_id\").isin(broadcasted_users_banned_list.value) | F.col(\"driver_id\").isin(broadcasted_users_banned_list.value)).over(window))\n        .filter(F.col(\"request_at\").between(\"2013-10-01\", \"2013-10-03\"))\n        .select(\"status\", \"request_at\", \"total\", \"cancelled\", \"banned\")\n)\n\nresult = (\n    trips_enriched.filter(\"total - banned > 0\")\n        .select(F.col(\"request_at\").alias(\"Day\"),\n                F.round(F.col(\"cancelled\") / (F.col(\"total\") - F.col(\"banned\")).cast(\"float\"), 2).alias(\"Cancellation Rate\"))\n        .distinct()\n)\n\ndisplay(result)",
      "metadata": {
        "trusted": true
      },
      "outputs": [],
      "execution_count": null
    },
    {
      "id": "7143688f-fa1b-4d75-823a-8c0bbab51599",
      "cell_type": "code",
      "source": "",
      "metadata": {
        "trusted": true
      },
      "outputs": [],
      "execution_count": null
    }
  ]
}