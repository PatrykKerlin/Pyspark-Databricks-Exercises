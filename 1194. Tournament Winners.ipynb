{
 "cells": [
  {
   "cell_type": "markdown",
   "metadata": {
    "application/vnd.databricks.v1+cell": {
     "cellMetadata": {
      "byteLimit": 2048000,
      "rowLimit": 10000
     },
     "inputWidgets": {},
     "nuid": "2fb37350-6065-4d47-8a0f-f03580c711c5",
     "showTitle": false,
     "title": ""
    }
   },
   "source": [
    "# Tournament Winners"
   ]
  },
  {
   "cell_type": "markdown",
   "metadata": {
    "application/vnd.databricks.v1+cell": {
     "cellMetadata": {
      "byteLimit": 2048000,
      "rowLimit": 10000
     },
     "inputWidgets": {},
     "nuid": "404e51c5-4539-4327-9b32-264d6fc8a259",
     "showTitle": false,
     "title": ""
    }
   },
   "source": [
    "### Description"
   ]
  },
  {
   "cell_type": "markdown",
   "metadata": {
    "application/vnd.databricks.v1+cell": {
     "cellMetadata": {
      "byteLimit": 2048000,
      "rowLimit": 10000
     },
     "inputWidgets": {},
     "nuid": "5d3a54de-a727-4389-8887-691f59459b31",
     "showTitle": false,
     "title": ""
    }
   },
   "source": [
    "Table: Players\n",
    "\n",
    "| Column Name | Type  |\n",
    "|-------------|-------|\n",
    "| player_id   | int   |\n",
    "| group_id    | int   |\n",
    "\n",
    "player_id is the primary key (column with unique values) of this table.\n",
    "Each row of this table indicates the group of each player.\n",
    "\n",
    "Table: Matches\n",
    "\n",
    "| Column Name   | Type    |\n",
    "|---------------|---------|\n",
    "| match_id      | int     |\n",
    "| first_player  | int     |\n",
    "| second_player | int     | \n",
    "| first_score   | int     |\n",
    "| second_score  | int     |\n",
    "\n",
    "match_id is the primary key (column with unique values) of this table.\n",
    "Each row is a record of a match, first_player and second_player contain the player_id of each match.\n",
    "first_score and second_score contain the number of points of the first_player and second_player respectively.\n",
    "You may assume that, in each match, players belong to the same group.\n",
    " \n",
    "The winner in each group is the player who scored the maximum total points within the group. In the case of a tie, the lowest player_id wins.\n",
    "\n",
    "Write a solution to find the winner in each group.\n",
    "\n",
    "Return the result table in any order."
   ]
  },
  {
   "cell_type": "markdown",
   "metadata": {
    "application/vnd.databricks.v1+cell": {
     "cellMetadata": {
      "byteLimit": 2048000,
      "rowLimit": 10000
     },
     "inputWidgets": {},
     "nuid": "71a7aa45-2be6-4d8d-832c-3f027bf2aa97",
     "showTitle": false,
     "title": ""
    }
   },
   "source": [
    "### Imports"
   ]
  },
  {
   "cell_type": "code",
   "execution_count": 0,
   "metadata": {
    "application/vnd.databricks.v1+cell": {
     "cellMetadata": {
      "byteLimit": 2048000,
      "rowLimit": 10000
     },
     "inputWidgets": {},
     "nuid": "e08da446-2ac5-4fc9-a40a-0fbc01d656ee",
     "showTitle": false,
     "title": ""
    },
    "trusted": true
   },
   "outputs": [],
   "source": [
    "from pyspark.sql.types import StructType, StructField, IntegerType\n",
    "from pyspark.sql import functions as F\n",
    "from pyspark.sql.window import Window\n",
    "from datetime import datetime"
   ]
  },
  {
   "cell_type": "markdown",
   "metadata": {
    "application/vnd.databricks.v1+cell": {
     "cellMetadata": {
      "byteLimit": 2048000,
      "rowLimit": 10000
     },
     "inputWidgets": {},
     "nuid": "9016c3b5-29f8-4658-9f05-4791a25927c9",
     "showTitle": false,
     "title": ""
    }
   },
   "source": [
    "### Sample data"
   ]
  },
  {
   "cell_type": "code",
   "execution_count": 0,
   "metadata": {
    "application/vnd.databricks.v1+cell": {
     "cellMetadata": {
      "byteLimit": 2048000,
      "rowLimit": 10000
     },
     "inputWidgets": {},
     "nuid": "985b4d7f-c445-4ff4-ab06-99a2df60e9ef",
     "showTitle": false,
     "title": ""
    },
    "trusted": true
   },
   "outputs": [
    {
     "output_type": "display_data",
     "data": {
      "text/html": [
       "<style scoped>\n",
       "  .table-result-container {\n",
       "    max-height: 300px;\n",
       "    overflow: auto;\n",
       "  }\n",
       "  table, th, td {\n",
       "    border: 1px solid black;\n",
       "    border-collapse: collapse;\n",
       "  }\n",
       "  th, td {\n",
       "    padding: 5px;\n",
       "  }\n",
       "  th {\n",
       "    text-align: left;\n",
       "  }\n",
       "</style><div class='table-result-container'><table class='table-result'><thead style='background-color: white'><tr><th>player_id</th><th>group_id</th></tr></thead><tbody><tr><td>15</td><td>1</td></tr><tr><td>25</td><td>1</td></tr><tr><td>30</td><td>1</td></tr><tr><td>45</td><td>1</td></tr><tr><td>10</td><td>2</td></tr><tr><td>35</td><td>2</td></tr><tr><td>50</td><td>2</td></tr><tr><td>20</td><td>3</td></tr><tr><td>40</td><td>3</td></tr></tbody></table></div>"
      ]
     },
     "metadata": {
      "application/vnd.databricks.v1+output": {
       "addedWidgets": {},
       "aggData": [],
       "aggError": "",
       "aggOverflow": false,
       "aggSchema": [],
       "aggSeriesLimitReached": false,
       "aggType": "",
       "arguments": {},
       "columnCustomDisplayInfos": {},
       "data": [
        [
         15,
         1
        ],
        [
         25,
         1
        ],
        [
         30,
         1
        ],
        [
         45,
         1
        ],
        [
         10,
         2
        ],
        [
         35,
         2
        ],
        [
         50,
         2
        ],
        [
         20,
         3
        ],
        [
         40,
         3
        ]
       ],
       "datasetInfos": [],
       "dbfsResultPath": null,
       "isJsonSchema": true,
       "metadata": {},
       "overflow": false,
       "plotOptions": {
        "customPlotOptions": {},
        "displayType": "table",
        "pivotAggregation": null,
        "pivotColumns": null,
        "xColumns": null,
        "yColumns": null
       },
       "removedWidgets": [],
       "schema": [
        {
         "metadata": "{}",
         "name": "player_id",
         "type": "\"integer\""
        },
        {
         "metadata": "{}",
         "name": "group_id",
         "type": "\"integer\""
        }
       ],
       "type": "table"
      }
     },
     "output_type": "display_data"
    },
    {
     "output_type": "display_data",
     "data": {
      "text/html": [
       "<style scoped>\n",
       "  .table-result-container {\n",
       "    max-height: 300px;\n",
       "    overflow: auto;\n",
       "  }\n",
       "  table, th, td {\n",
       "    border: 1px solid black;\n",
       "    border-collapse: collapse;\n",
       "  }\n",
       "  th, td {\n",
       "    padding: 5px;\n",
       "  }\n",
       "  th {\n",
       "    text-align: left;\n",
       "  }\n",
       "</style><div class='table-result-container'><table class='table-result'><thead style='background-color: white'><tr><th>match_id</th><th>first_player</th><th>second_player</th><th>first_score</th><th>second_score</th></tr></thead><tbody><tr><td>1</td><td>15</td><td>45</td><td>3</td><td>0</td></tr><tr><td>2</td><td>30</td><td>25</td><td>1</td><td>2</td></tr><tr><td>3</td><td>30</td><td>15</td><td>2</td><td>0</td></tr><tr><td>4</td><td>40</td><td>20</td><td>5</td><td>2</td></tr><tr><td>5</td><td>35</td><td>50</td><td>1</td><td>1</td></tr></tbody></table></div>"
      ]
     },
     "metadata": {
      "application/vnd.databricks.v1+output": {
       "addedWidgets": {},
       "aggData": [],
       "aggError": "",
       "aggOverflow": false,
       "aggSchema": [],
       "aggSeriesLimitReached": false,
       "aggType": "",
       "arguments": {},
       "columnCustomDisplayInfos": {},
       "data": [
        [
         1,
         15,
         45,
         3,
         0
        ],
        [
         2,
         30,
         25,
         1,
         2
        ],
        [
         3,
         30,
         15,
         2,
         0
        ],
        [
         4,
         40,
         20,
         5,
         2
        ],
        [
         5,
         35,
         50,
         1,
         1
        ]
       ],
       "datasetInfos": [],
       "dbfsResultPath": null,
       "isJsonSchema": true,
       "metadata": {},
       "overflow": false,
       "plotOptions": {
        "customPlotOptions": {},
        "displayType": "table",
        "pivotAggregation": null,
        "pivotColumns": null,
        "xColumns": null,
        "yColumns": null
       },
       "removedWidgets": [],
       "schema": [
        {
         "metadata": "{}",
         "name": "match_id",
         "type": "\"integer\""
        },
        {
         "metadata": "{}",
         "name": "first_player",
         "type": "\"integer\""
        },
        {
         "metadata": "{}",
         "name": "second_player",
         "type": "\"integer\""
        },
        {
         "metadata": "{}",
         "name": "first_score",
         "type": "\"integer\""
        },
        {
         "metadata": "{}",
         "name": "second_score",
         "type": "\"integer\""
        }
       ],
       "type": "table"
      }
     },
     "output_type": "display_data"
    }
   ],
   "source": [
    "players_schema = StructType([\n",
    "    StructField(\"player_id\", IntegerType(), nullable=False),\n",
    "    StructField(\"group_id\", IntegerType(), nullable=False)\n",
    "])\n",
    "\n",
    "matches_schema = StructType([\n",
    "    StructField(\"match_id\", IntegerType(), nullable=False),\n",
    "    StructField(\"first_player\", IntegerType(), nullable=False),\n",
    "    StructField(\"second_player\", IntegerType(), nullable=False),\n",
    "    StructField(\"first_score\", IntegerType(), nullable=False),\n",
    "    StructField(\"second_score\", IntegerType(), nullable=False)\n",
    "])\n",
    "\n",
    "players_data = [\n",
    "    (15, 1),\n",
    "    (25, 1),\n",
    "    (30, 1),\n",
    "    (45, 1),\n",
    "    (10, 2),\n",
    "    (35, 2),\n",
    "    (50, 2),\n",
    "    (20, 3),\n",
    "    (40, 3)\n",
    "]\n",
    "\n",
    "matches_data = [\n",
    "    (1, 15, 45, 3, 0),\n",
    "    (2, 30, 25, 1, 2),\n",
    "    (3, 30, 15, 2, 0),\n",
    "    (4, 40, 20, 5, 2),\n",
    "    (5, 35, 50, 1, 1)\n",
    "]\n",
    "\n",
    "spark.createDataFrame(players_data, schema=players_schema).createOrReplaceTempView(\"Players\")\n",
    "spark.createDataFrame(matches_data, schema=matches_schema).createOrReplaceTempView(\"Matches\")\n",
    "\n",
    "display(spark.table(\"Players\"))\n",
    "display(spark.table(\"Matches\"))"
   ]
  },
  {
   "cell_type": "markdown",
   "metadata": {
    "application/vnd.databricks.v1+cell": {
     "cellMetadata": {
      "byteLimit": 2048000,
      "rowLimit": 10000
     },
     "inputWidgets": {},
     "nuid": "1067aa7c-497f-4067-9a63-930ded1b430c",
     "showTitle": false,
     "title": ""
    }
   },
   "source": [
    "### Solution"
   ]
  },
  {
   "cell_type": "code",
   "execution_count": 0,
   "metadata": {
    "application/vnd.databricks.v1+cell": {
     "cellMetadata": {
      "byteLimit": 2048000,
      "rowLimit": 10000
     },
     "inputWidgets": {},
     "nuid": "f9229341-55f8-4c7a-89be-09200d6d01e5",
     "showTitle": false,
     "title": ""
    },
    "trusted": true
   },
   "outputs": [
    {
     "output_type": "display_data",
     "data": {
      "text/html": [
       "<style scoped>\n",
       "  .table-result-container {\n",
       "    max-height: 300px;\n",
       "    overflow: auto;\n",
       "  }\n",
       "  table, th, td {\n",
       "    border: 1px solid black;\n",
       "    border-collapse: collapse;\n",
       "  }\n",
       "  th, td {\n",
       "    padding: 5px;\n",
       "  }\n",
       "  th {\n",
       "    text-align: left;\n",
       "  }\n",
       "</style><div class='table-result-container'><table class='table-result'><thead style='background-color: white'><tr><th>group_id</th><th>player_id</th></tr></thead><tbody><tr><td>1</td><td>15</td></tr><tr><td>2</td><td>35</td></tr><tr><td>3</td><td>40</td></tr></tbody></table></div>"
      ]
     },
     "metadata": {
      "application/vnd.databricks.v1+output": {
       "addedWidgets": {},
       "aggData": [],
       "aggError": "",
       "aggOverflow": false,
       "aggSchema": [],
       "aggSeriesLimitReached": false,
       "aggType": "",
       "arguments": {},
       "columnCustomDisplayInfos": {},
       "data": [
        [
         1,
         15
        ],
        [
         2,
         35
        ],
        [
         3,
         40
        ]
       ],
       "datasetInfos": [],
       "dbfsResultPath": null,
       "isJsonSchema": true,
       "metadata": {},
       "overflow": false,
       "plotOptions": {
        "customPlotOptions": {},
        "displayType": "table",
        "pivotAggregation": null,
        "pivotColumns": null,
        "xColumns": null,
        "yColumns": null
       },
       "removedWidgets": [],
       "schema": [
        {
         "metadata": "{}",
         "name": "group_id",
         "type": "\"integer\""
        },
        {
         "metadata": "{}",
         "name": "player_id",
         "type": "\"integer\""
        }
       ],
       "type": "table"
      }
     },
     "output_type": "display_data"
    }
   ],
   "source": [
    "first_player_scores = (\n",
    "    spark.read.table((\"Matches\"))\n",
    "        .select(F.col(\"first_player\").alias(\"player_id\"), \"first_score\")\n",
    "        .groupBy(\"player_id\")\n",
    "        .agg(F.sum(\"first_score\").alias(\"score\"))\n",
    "\n",
    ")\n",
    "\n",
    "second_player_scores = (\n",
    "    spark.read.table((\"Matches\"))\n",
    "        .select(F.col(\"second_player\").alias(\"player_id\"), \"second_score\")\n",
    "        .groupBy(\"player_id\")\n",
    "        .agg(F.sum(\"second_score\").alias(\"score\"))\n",
    "\n",
    ")\n",
    "\n",
    "scores_total = (\n",
    "    first_player_scores.unionAll(second_player_scores)\n",
    "        .groupBy(\"player_id\")\n",
    "        .agg(F.sum(\"score\").alias(\"score\"))\n",
    ")\n",
    "\n",
    "scores_total_with_group_id = (\n",
    "    scores_total.alias(\"s\")\n",
    "    .join(spark.table(\"Players\").alias(\"p\"), \"player_id\", \"inner\")\n",
    ")\n",
    "\n",
    "window = Window.partitionBy(\"group_id\").orderBy(F.col(\"score\").desc(), F.col(\"player_id\").asc())\n",
    "\n",
    "result = (\n",
    "    scores_total_with_group_id.withColumn(\"row_no\", F.row_number().over(window))\n",
    "        .filter(\"row_no = 1\")\n",
    "        .select(\"group_id\", \"player_id\")\n",
    ")\n",
    "\n",
    "display(result)"
   ]
  },
  {
   "cell_type": "code",
   "execution_count": 0,
   "metadata": {
    "application/vnd.databricks.v1+cell": {
     "cellMetadata": {
      "byteLimit": 2048000,
      "rowLimit": 10000
     },
     "inputWidgets": {},
     "nuid": "95d15493-f528-46cc-9080-a15ceb31e191",
     "showTitle": false,
     "title": ""
    },
    "trusted": true
   },
   "outputs": [],
   "source": []
  }
 ],
 "metadata": {
  "application/vnd.databricks.v1+notebook": {
   "dashboards": [],
   "environmentMetadata": null,
   "language": "python",
   "notebookMetadata": {
    "pythonIndentUnit": 4
   },
   "notebookName": "1194. Tournament Winners",
   "widgets": {}
  },
  "kernelspec": {
   "display_name": "Python (Pyodide)",
   "language": "python",
   "name": "python"
  },
  "language_info": {
   "codemirror_mode": {
    "name": "python",
    "version": 3
   },
   "file_extension": ".py",
   "mimetype": "text/x-python",
   "name": "python",
   "nbconvert_exporter": "python",
   "pygments_lexer": "ipython3",
   "version": "3.8"
  }
 },
 "nbformat": 4,
 "nbformat_minor": 0
}
