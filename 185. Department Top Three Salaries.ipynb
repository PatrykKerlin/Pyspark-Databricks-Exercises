{
  "metadata": {
    "kernelspec": {
      "name": "python",
      "display_name": "Python (Pyodide)",
      "language": "python"
    },
    "language_info": {
      "codemirror_mode": {
        "name": "python",
        "version": 3
      },
      "file_extension": ".py",
      "mimetype": "text/x-python",
      "name": "python",
      "nbconvert_exporter": "python",
      "pygments_lexer": "ipython3",
      "version": "3.8"
    }
  },
  "nbformat_minor": 5,
  "nbformat": 4,
  "cells": [
    {
      "id": "00bb0414-7265-41dc-b553-3847ca9c020a",
      "cell_type": "markdown",
      "source": "# Department Top Three Salaries",
      "metadata": {}
    },
    {
      "id": "146d0342-e90b-40ba-b93d-1f32f29a9bb4",
      "cell_type": "markdown",
      "source": "### Description",
      "metadata": {}
    },
    {
      "id": "2385eded-dc22-4518-805f-baf9e51ec412",
      "cell_type": "markdown",
      "source": "Table: Employee\n\n| Column Name  | Type    |\n|--------------|---------|\n| id           | int     |\n| name         | varchar |\n| salary       | int     |\n| departmentId | int     |\n\nid is the primary key (column with unique values) for this table.\ndepartmentId is a foreign key (reference column) of the ID from the Department table.\nEach row of this table indicates the ID, name, and salary of an employee. It also contains the ID of their department.\n \nTable: Department\n\n| Column Name | Type    |\n|-------------|---------|\n| id          | int     |\n| name        | varchar |\n\nid is the primary key (column with unique values) for this table.\nEach row of this table indicates the ID of a department and its name.\n \nA company's executives are interested in seeing who earns the most money in each of the company's departments. A high earner in a department is an employee who has a salary in the top three unique salaries for that department.\n\nWrite a solution to find the employees who are high earners in each of the departments.\n\nReturn the result table in any order.",
      "metadata": {}
    },
    {
      "id": "a4be8522-d0c3-4ef4-81f1-08c147c90bb2",
      "cell_type": "markdown",
      "source": "### Imports",
      "metadata": {}
    },
    {
      "id": "10a0f31b-2829-4f52-9701-d659274a3251",
      "cell_type": "code",
      "source": "from pyspark.sql import functions as F\nfrom pyspark.sql.window import Window\nfrom pyspark.sql.types import StructType, StructField, IntegerType, StringType",
      "metadata": {
        "trusted": true
      },
      "outputs": [],
      "execution_count": null
    },
    {
      "id": "f909d293-afca-4af9-8f4d-1e4027eb466d",
      "cell_type": "markdown",
      "source": "### Sample data",
      "metadata": {}
    },
    {
      "id": "8bbb2b62-6190-4557-8a41-f29da277f447",
      "cell_type": "code",
      "source": "employee_schema = StructType([\n    StructField(\"id\", IntegerType(), nullable=False),\n    StructField(\"name\", StringType(), nullable=False),\n    StructField(\"salary\", IntegerType(), nullable=False),\n    StructField(\"departmentId\", IntegerType(), nullable=False)\n])\n\ndepartment_schema = StructType([\n    StructField(\"id\", IntegerType(), nullable=False),\n    StructField(\"name\", StringType(), nullable=False)\n])\n\nemployee_data = [\n    (1, \"Joe\", 85000, 1),\n    (2, \"Henry\", 80000, 2),\n    (3, \"Sam\", 60000, 2),\n    (4, \"Max\", 90000, 1),\n    (5, \"Janet\", 69000, 1),\n    (6, \"Randy\", 85000, 1),\n    (7, \"Will\", 70000, 1)\n]\n\ndepartment_data = [\n    (1, \"IT\"),\n    (2, \"Sales\")\n]\n\nspark.createDataFrame(employee_data, schema=employee_schema).createOrReplaceTempView(\"Employee\")\n\nspark.createDataFrame(department_data, schema=department_schema).createOrReplaceTempView(\"Department\")\n\ndisplay(spark.table(\"Employee\"))\ndisplay(spark.table(\"Department\"))",
      "metadata": {
        "trusted": true
      },
      "outputs": [],
      "execution_count": null
    },
    {
      "id": "1cebfca2-5199-4bb1-b533-071642f20658",
      "cell_type": "code",
      "source": "",
      "metadata": {
        "trusted": true
      },
      "outputs": [],
      "execution_count": null
    }
  ]
}