{
  "metadata": {
    "kernelspec": {
      "name": "python",
      "display_name": "Python (Pyodide)",
      "language": "python"
    },
    "language_info": {
      "codemirror_mode": {
        "name": "python",
        "version": 3
      },
      "file_extension": ".py",
      "mimetype": "text/x-python",
      "name": "python",
      "nbconvert_exporter": "python",
      "pygments_lexer": "ipython3",
      "version": "3.8"
    }
  },
  "nbformat_minor": 5,
  "nbformat": 4,
  "cells": [
    {
      "id": "00bb0414-7265-41dc-b553-3847ca9c020a",
      "cell_type": "markdown",
      "source": "# Human Traffic of Stadium",
      "metadata": {}
    },
    {
      "id": "146d0342-e90b-40ba-b93d-1f32f29a9bb4",
      "cell_type": "markdown",
      "source": "### Description",
      "metadata": {}
    },
    {
      "id": "2385eded-dc22-4518-805f-baf9e51ec412",
      "cell_type": "markdown",
      "source": "Table: Stadium\n\n| Column Name   | Type    |\n|---------------|---------|\n| id            | int     |\n| visit_date    | date    |\n| people        | int     |\n\nvisit_date is the column with unique values for this table.\nEach row of this table contains the visit date and visit id to the stadium with the number of people during the visit.\nAs the id increases, the date increases as well.\n \nWrite a solution to display the records with three or more rows with consecutive id's, and the number of people is greater than or equal to 100 for each.\n\nReturn the result table ordered by visit_date in ascending order.",
      "metadata": {}
    },
    {
      "id": "a4be8522-d0c3-4ef4-81f1-08c147c90bb2",
      "cell_type": "markdown",
      "source": "### Imports",
      "metadata": {}
    },
    {
      "id": "10a0f31b-2829-4f52-9701-d659274a3251",
      "cell_type": "code",
      "source": "from pyspark.sql.types import StructType, StructField, IntegerType, DateType\nfrom pyspark.sql import functions as F\nfrom pyspark.sql.window import Window\nfrom datetime import datetime",
      "metadata": {
        "trusted": true
      },
      "outputs": [],
      "execution_count": null
    },
    {
      "id": "f909d293-afca-4af9-8f4d-1e4027eb466d",
      "cell_type": "markdown",
      "source": "### Sample data",
      "metadata": {}
    },
    {
      "id": "8bbb2b62-6190-4557-8a41-f29da277f447",
      "cell_type": "code",
      "source": "schema = StructType([\n    StructField(\"id\", IntegerType(), True),\n    StructField(\"visit_date\", DateType(), True),\n    StructField(\"people\", IntegerType(), True)\n])\n\ndata = [\n    (1, datetime.strptime(\"2017-01-01\", \"%Y-%m-%d\"), 10),\n    (2, datetime.strptime(\"2017-01-02\", \"%Y-%m-%d\"), 109),\n    (3, datetime.strptime(\"2017-01-03\", \"%Y-%m-%d\"), 150),\n    (4, datetime.strptime(\"2017-01-04\", \"%Y-%m-%d\"), 99),\n    (5, datetime.strptime(\"2017-01-05\", \"%Y-%m-%d\"), 145),\n    (6, datetime.strptime(\"2017-01-06\", \"%Y-%m-%d\"), 1455),\n    (7, datetime.strptime(\"2017-01-07\", \"%Y-%m-%d\"), 199),\n    (8, datetime.strptime(\"2017-01-09\", \"%Y-%m-%d\"), 188)\n]\n\nspark.createDataFrame(data, schema).createOrReplaceTempView(\"Stadium\")\n\ndisplay(spark.table(\"Stadium\"))\n",
      "metadata": {
        "trusted": true
      },
      "outputs": [],
      "execution_count": null
    },
    {
      "id": "e0d29e5e-9f62-4266-86c7-153beb01d667",
      "cell_type": "markdown",
      "source": "### Solution",
      "metadata": {}
    },
    {
      "id": "1f849ad4-f004-4050-aafa-13d1ccbcb0d9",
      "cell_type": "code",
      "source": "window = Window.orderBy(\"visit_date\")\n\nstadium_enriched = (\n    spark.read.table(\"Stadium\")\n        .withColumn(\"one_prev\", F.lag(\"people\", 1).over(window))\n        .withColumn(\"two_prev\", F.lag(\"people\", 2).over(window))\n        .withColumn(\"one_next\", F.lead(\"people\", 1).over(window))\n        .withColumn(\"two_next\", F.lead(\"people\", 2).over(window))\n)\n\nresult = (\n    stadium_enriched.filter(\n        (F.col(\"people\") >= 100) & (\n            ((F.col(\"one_prev\") >= 100) & (F.col(\"two_prev\") >= 100)) |\n            ((F.col(\"one_next\") >= 100) & (F.col(\"two_next\") >= 100)) |\n            ((F.col(\"one_prev\") >= 100) & (F.col(\"one_next\") >= 100))\n        ))\n        .select(\"id\", \"visit_date\", \"people\")\n        .orderBy(\"visit_date\")\n)\n\ndisplay(result)",
      "metadata": {
        "trusted": true
      },
      "outputs": [],
      "execution_count": null
    },
    {
      "id": "7143688f-fa1b-4d75-823a-8c0bbab51599",
      "cell_type": "code",
      "source": "",
      "metadata": {
        "trusted": true
      },
      "outputs": [],
      "execution_count": null
    }
  ]
}